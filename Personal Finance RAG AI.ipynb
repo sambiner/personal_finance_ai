{
 "cells": [
  {
   "cell_type": "code",
   "execution_count": 1,
   "id": "9c8c77bd-5383-4944-81cd-295d6cd20f8b",
   "metadata": {},
   "outputs": [],
   "source": [
    "import re\n",
    "import fitz\n",
    "import spacy\n",
    "import nltk\n",
    "from nltk.corpus import stopwords\n",
    "from prefect import task, flow\n",
    "from tqdm import tqdm"
   ]
  },
  {
   "cell_type": "code",
   "execution_count": 2,
   "id": "a61b4ae3-a561-452c-908f-3c77035467b1",
   "metadata": {},
   "outputs": [
    {
     "name": "stdout",
     "output_type": "stream",
     "text": [
      "No Data\n"
     ]
    }
   ],
   "source": [
    "def remove_timestamp(text):\n",
    "    return re.sub(r'\\[\\d{2}:\\d{2}:\\d{2}\\]', '', text).strip()\n",
    "\n",
    "text = '''\n",
    "No Data\n",
    "'''\n",
    "\n",
    "cleaned_text = remove_timestamp(text)\n",
    "print(cleaned_text)"
   ]
  },
  {
   "cell_type": "code",
   "execution_count": 3,
   "id": "7d180bc7-5f73-4ca2-9158-e0406ce4b97e",
   "metadata": {},
   "outputs": [
    {
     "data": {
      "text/plain": [
       "True"
      ]
     },
     "execution_count": 3,
     "metadata": {},
     "output_type": "execute_result"
    }
   ],
   "source": [
    "nltk.download('stopwords', quiet=True)\n",
    "nltk.download('punkt', quiet=True)"
   ]
  },
  {
   "cell_type": "code",
   "execution_count": 4,
   "id": "1eb499b3-6e10-4b0b-9ab7-359a5310e751",
   "metadata": {},
   "outputs": [],
   "source": [
    "@task\n",
    "def extract_pdf_text(pdf_path):\n",
    "    doc = fitz.open(pdf_path)\n",
    "    text = \"\"\n",
    "    for page_num in tqdm(range(doc.page_count), desc=\"Extracting pages\"):\n",
    "        page = doc.load_page(page_num)\n",
    "        text += page.get_text()\n",
    "    return text\n",
    "\n",
    "@task\n",
    "def clean_text(text):\n",
    "    paragraphs = text.split('\\n\\n')\n",
    "    cleaned_paragraphs = []\n",
    "    for paragraph in paragraphs:\n",
    "        if re.match(r'^[A-Z][a-z]+:', paragraph):\n",
    "            cleaned_paragraphs.append(paragraph.strip())\n",
    "        else:\n",
    "            paragraph = re.sub(r'\\s+', ' ', paragraph)\n",
    "            paragraph = re.sub(r'([.,?!:;])(\\S)', r'\\1 \\2', paragraph)\n",
    "            paragraph = re.sub(r'\\b(ca) (nt)\\b', r\"can't\", paragraph)\n",
    "            paragraph = re.sub(r'\\b(do) (nt)\\b', r\"don't\", paragraph)\n",
    "            paragraph = re.sub(r'\\b(wo) (nt)\\b', r\"won't\", paragraph)\n",
    "            paragraph = re.sub(r'[^\\w\\s.,?!:;\\'-]', '', paragraph)\n",
    "            cleaned_paragraphs.append(paragraph.strip())\n",
    "    return '\\n\\n'.join(cleaned_paragraphs)\n",
    "\n",
    "@task\n",
    "def process_text(text, nlp, stop_words):\n",
    "    processed_text = []\n",
    "    for paragraph in text.split('\\n\\n'):\n",
    "        if paragraph.startswith(\"Podcast Episode\") or paragraph.startswith(\"Synopsis:\") or \"Transcript:\" in paragraph:\n",
    "            processed_text.append(paragraph)\n",
    "        else:\n",
    "            doc = nlp(paragraph)\n",
    "            processed_words = []\n",
    "            for token in doc:\n",
    "                if token.text.lower() not in stop_words and len(token.text) > 1:\n",
    "                    if token.ent_type_ in ['PERSON', 'ORG', 'GPE']:\n",
    "                        processed_words.append(token.text)\n",
    "                    else:\n",
    "                        processed_words.append(token.lemma_.lower())\n",
    "            processed_text.append(' '.join(processed_words))\n",
    "    return '\\n\\n'.join(processed_text)\n",
    "\n",
    "@task\n",
    "def extract_metadata(text):\n",
    "    episodes = re.split(r'Podcast Episode \\d+:', text)[1:]\n",
    "    all_episodes_data = []\n",
    "    episode_num = 0\n",
    "    \n",
    "    for episode_text in episodes:\n",
    "        episode_num += 1\n",
    "        lines = episode_text.strip().split('\\n')\n",
    "        episode_info = \"\"\n",
    "        transcript = \"\"\n",
    "        episode_info = lines[0].strip()\n",
    "        transcript_start = -1\n",
    "        for i, line in enumerate(lines):\n",
    "            if line.startswith(\"Podcast Transcript:\"):\n",
    "                transcript_start = i\n",
    "        if transcript_start != -1:\n",
    "            transcript = '\\n'.join(lines[transcript_start+1:]).strip()\n",
    "        all_episodes_data.append({\n",
    "            \"episode_num\" : episode_num,\n",
    "            \"episode_info\" : episode_info,\n",
    "            \"transcript\" : transcript\n",
    "        })\n",
    "    return all_episodes_data"
   ]
  },
  {
   "cell_type": "code",
   "execution_count": 5,
   "id": "d3d2423b-7049-4173-ab6b-e77f72c9f965",
   "metadata": {},
   "outputs": [
    {
     "name": "stderr",
     "output_type": "stream",
     "text": [
      "C:\\Users\\sambi\\AppData\\Roaming\\Python\\Python311\\site-packages\\sentence_transformers\\cross_encoder\\CrossEncoder.py:11: TqdmExperimentalWarning: Using `tqdm.autonotebook.tqdm` in notebook mode. Use `tqdm.tqdm` instead to force console mode (e.g. in jupyter console)\n",
      "  from tqdm.autonotebook import tqdm, trange\n"
     ]
    }
   ],
   "source": [
    "import numpy as np\n",
    "from sentence_transformers import SentenceTransformer\n",
    "from sklearn.metrics.pairwise import cosine_similarity\n",
    "from transformers import AutoTokenizer, AutoModelForCausalLM\n",
    "import torch\n",
    "import traceback\n",
    "from openai import OpenAI\n",
    "import os"
   ]
  },
  {
   "cell_type": "code",
   "execution_count": 18,
   "id": "4c707147-27f6-4551-8a0b-b31003ebb3af",
   "metadata": {},
   "outputs": [],
   "source": [
    "os.environ['OPENAI_API_KEY'] = 'OPENAI_API_KEY_HERE'\n",
    "\n",
    "@task\n",
    "def load_models():\n",
    "    api_key = os.environ.get('OPENAI_API_KEY')\n",
    "    sentence_model = SentenceTransformer('all-MiniLM-L6-v2')\n",
    "    client = OpenAI(api_key=api_key)\n",
    "    return sentence_model, client\n",
    "\n",
    "@task\n",
    "def create_chunks(all_episodes_data, chunk_size=500, overlap=100):\n",
    "    chunks = []\n",
    "    for episode in all_episodes_data:\n",
    "        episode_text = f\"Episode {episode['episode_num']}: \\n{episode['transcript']}\"\n",
    "        words = episode_text.split()\n",
    "        for i in range(0, len(words), chunk_size - overlap):\n",
    "            chunk = ' '.join(words[i:i+chunk_size])\n",
    "            chunks.append(chunk)\n",
    "    return chunks\n",
    "\n",
    "@task\n",
    "def preprocess_corpus(all_episodes_data, sentence_model):\n",
    "    chunks = create_chunks(all_episodes_data)\n",
    "    chunk_embeddings = sentence_model.encode(chunks)\n",
    "    return chunks, chunk_embeddings\n",
    "\n",
    "@task\n",
    "def retrieve_relevant_chunks(query, chunks, chunk_embeddings, sentence_model, top_k=4):\n",
    "    query_embedding = sentence_model.encode([query])\n",
    "    similarities = cosine_similarity(query_embedding, chunk_embeddings)[0]\n",
    "    top_indices = np.argsort(similarities)[-top_k:][::-1]\n",
    "    relevant_chunks = [chunks[i] for i in top_indices]\n",
    "    return relevant_chunks\n",
    "\n",
    "@task\n",
    "def sliding_window_generation(prompt, context, client, max_length=2048, stride=1000):\n",
    "    generated_text = \"\"\n",
    "    input_text = f\"{prompt}\\n\\n{context}\"\n",
    "    \n",
    "    for i in range(0, len(input_text), stride):\n",
    "        window = input_text[i:i+max_length]\n",
    "        response = client.chat.completions.create(\n",
    "            model='gpt-4o',\n",
    "            messages = [\n",
    "                {'role':'system', 'content': \"You are a personal finance assistant designed to provide concise, accurate information based on Ramit Sethi's teachings. Your primary task is to directly answer the user's question using the provided context as general knowledge. Do not offer personalized advice or refer to specific individuals mentioned in the context. Treat the context as background information only, not as a scenario to be addressed. Focus solely on the user's explicit query. Keep your responses brief and to the point, ideally under 150 words. If the user's question cannot be fully answered using the given context, provide a clear, factual response based on general personal finance principles without speculation or elaboration.\"},\n",
    "                {'role':'user', 'content':window}\n",
    "            ],\n",
    "            max_tokens = 512\n",
    "        )\n",
    "        generated_text += response.choices[0].message.content.strip()\n",
    "    return generated_text\n",
    "\n",
    "@flow(name=\"Integrated Text Preprocessing and RAG Flow\")\n",
    "def integrated_preprocessing_rag_flow(pdf_path, query):\n",
    "    nlp = spacy.load('en_core_web_lg')\n",
    "    stop_words = set(stopwords.words('english'))\n",
    "    stop_words.update(['actually', 'basically', 'literally', 'you know', 'um', 'uh'])\n",
    "\n",
    "    extracted_text = extract_pdf_text(pdf_path)\n",
    "    \n",
    "    all_episodes_data = extract_metadata(extracted_text)\n",
    "    sentence_model, client = load_models()\n",
    "    chunks, chunk_embeddings = preprocess_corpus(all_episodes_data, sentence_model)\n",
    "    relevant_chunks = retrieve_relevant_chunks(query, chunks, chunk_embeddings, sentence_model)\n",
    "    context = ' '.join(relevant_chunks)\n",
    "    print(f\"Context given:\\n{context}\")\n",
    "    answer = sliding_window_generation(query, context, client)\n",
    "    return all_episodes_data, answer"
   ]
  },
  {
   "cell_type": "code",
   "execution_count": 14,
   "id": "03d1c097-6a6b-4ed5-af58-e838c40a6108",
   "metadata": {},
   "outputs": [
    {
     "data": {
      "text/html": [
       "<pre style=\"white-space:pre;overflow-x:auto;line-height:normal;font-family:Menlo,'DejaVu Sans Mono',consolas,'Courier New',monospace\">23:58:36.512 | <span style=\"color: #008080; text-decoration-color: #008080\">INFO</span>    | prefect.engine - Created flow run<span style=\"color: #800080; text-decoration-color: #800080\"> 'lilac-chamois'</span> for flow<span style=\"color: #800080; text-decoration-color: #800080; font-weight: bold\"> 'Integrated Text Preprocessing and RAG Flow'</span>\n",
       "</pre>\n"
      ],
      "text/plain": [
       "23:58:36.512 | \u001b[36mINFO\u001b[0m    | prefect.engine - Created flow run\u001b[35m 'lilac-chamois'\u001b[0m for flow\u001b[1;35m 'Integrated Text Preprocessing and RAG Flow'\u001b[0m\n"
      ]
     },
     "metadata": {},
     "output_type": "display_data"
    },
    {
     "data": {
      "text/html": [
       "<pre style=\"white-space:pre;overflow-x:auto;line-height:normal;font-family:Menlo,'DejaVu Sans Mono',consolas,'Courier New',monospace\">23:58:38.395 | <span style=\"color: #008080; text-decoration-color: #008080\">INFO</span>    | Flow run<span style=\"color: #800080; text-decoration-color: #800080\"> 'lilac-chamois'</span> - Created task run 'extract_pdf_text-0' for task 'extract_pdf_text'\n",
       "</pre>\n"
      ],
      "text/plain": [
       "23:58:38.395 | \u001b[36mINFO\u001b[0m    | Flow run\u001b[35m 'lilac-chamois'\u001b[0m - Created task run 'extract_pdf_text-0' for task 'extract_pdf_text'\n"
      ]
     },
     "metadata": {},
     "output_type": "display_data"
    },
    {
     "data": {
      "text/html": [
       "<pre style=\"white-space:pre;overflow-x:auto;line-height:normal;font-family:Menlo,'DejaVu Sans Mono',consolas,'Courier New',monospace\">23:58:38.397 | <span style=\"color: #008080; text-decoration-color: #008080\">INFO</span>    | Flow run<span style=\"color: #800080; text-decoration-color: #800080\"> 'lilac-chamois'</span> - Executing 'extract_pdf_text-0' immediately...\n",
       "</pre>\n"
      ],
      "text/plain": [
       "23:58:38.397 | \u001b[36mINFO\u001b[0m    | Flow run\u001b[35m 'lilac-chamois'\u001b[0m - Executing 'extract_pdf_text-0' immediately...\n"
      ]
     },
     "metadata": {},
     "output_type": "display_data"
    },
    {
     "name": "stderr",
     "output_type": "stream",
     "text": [
      "Extracting pages: 100%|█████████████████████████████████████████████████████████████| 323/323 [00:00<00:00, 361.40it/s]\n"
     ]
    },
    {
     "data": {
      "text/html": [
       "<pre style=\"white-space:pre;overflow-x:auto;line-height:normal;font-family:Menlo,'DejaVu Sans Mono',consolas,'Courier New',monospace\">23:58:39.378 | <span style=\"color: #008080; text-decoration-color: #008080\">INFO</span>    | Task run 'extract_pdf_text-0' - Finished in state <span style=\"color: #008000; text-decoration-color: #008000\">Completed</span>()\n",
       "</pre>\n"
      ],
      "text/plain": [
       "23:58:39.378 | \u001b[36mINFO\u001b[0m    | Task run 'extract_pdf_text-0' - Finished in state \u001b[32mCompleted\u001b[0m()\n"
      ]
     },
     "metadata": {},
     "output_type": "display_data"
    },
    {
     "data": {
      "text/html": [
       "<pre style=\"white-space:pre;overflow-x:auto;line-height:normal;font-family:Menlo,'DejaVu Sans Mono',consolas,'Courier New',monospace\">23:58:39.409 | <span style=\"color: #008080; text-decoration-color: #008080\">INFO</span>    | Flow run<span style=\"color: #800080; text-decoration-color: #800080\"> 'lilac-chamois'</span> - Created task run 'extract_metadata-0' for task 'extract_metadata'\n",
       "</pre>\n"
      ],
      "text/plain": [
       "23:58:39.409 | \u001b[36mINFO\u001b[0m    | Flow run\u001b[35m 'lilac-chamois'\u001b[0m - Created task run 'extract_metadata-0' for task 'extract_metadata'\n"
      ]
     },
     "metadata": {},
     "output_type": "display_data"
    },
    {
     "data": {
      "text/html": [
       "<pre style=\"white-space:pre;overflow-x:auto;line-height:normal;font-family:Menlo,'DejaVu Sans Mono',consolas,'Courier New',monospace\">23:58:39.411 | <span style=\"color: #008080; text-decoration-color: #008080\">INFO</span>    | Flow run<span style=\"color: #800080; text-decoration-color: #800080\"> 'lilac-chamois'</span> - Executing 'extract_metadata-0' immediately...\n",
       "</pre>\n"
      ],
      "text/plain": [
       "23:58:39.411 | \u001b[36mINFO\u001b[0m    | Flow run\u001b[35m 'lilac-chamois'\u001b[0m - Executing 'extract_metadata-0' immediately...\n"
      ]
     },
     "metadata": {},
     "output_type": "display_data"
    },
    {
     "data": {
      "text/html": [
       "<pre style=\"white-space:pre;overflow-x:auto;line-height:normal;font-family:Menlo,'DejaVu Sans Mono',consolas,'Courier New',monospace\">23:58:39.494 | <span style=\"color: #008080; text-decoration-color: #008080\">INFO</span>    | Task run 'extract_metadata-0' - Finished in state <span style=\"color: #008000; text-decoration-color: #008000\">Completed</span>()\n",
       "</pre>\n"
      ],
      "text/plain": [
       "23:58:39.494 | \u001b[36mINFO\u001b[0m    | Task run 'extract_metadata-0' - Finished in state \u001b[32mCompleted\u001b[0m()\n"
      ]
     },
     "metadata": {},
     "output_type": "display_data"
    },
    {
     "data": {
      "text/html": [
       "<pre style=\"white-space:pre;overflow-x:auto;line-height:normal;font-family:Menlo,'DejaVu Sans Mono',consolas,'Courier New',monospace\">23:58:39.526 | <span style=\"color: #008080; text-decoration-color: #008080\">INFO</span>    | Flow run<span style=\"color: #800080; text-decoration-color: #800080\"> 'lilac-chamois'</span> - Created task run 'load_models-0' for task 'load_models'\n",
       "</pre>\n"
      ],
      "text/plain": [
       "23:58:39.526 | \u001b[36mINFO\u001b[0m    | Flow run\u001b[35m 'lilac-chamois'\u001b[0m - Created task run 'load_models-0' for task 'load_models'\n"
      ]
     },
     "metadata": {},
     "output_type": "display_data"
    },
    {
     "data": {
      "text/html": [
       "<pre style=\"white-space:pre;overflow-x:auto;line-height:normal;font-family:Menlo,'DejaVu Sans Mono',consolas,'Courier New',monospace\">23:58:39.528 | <span style=\"color: #008080; text-decoration-color: #008080\">INFO</span>    | Flow run<span style=\"color: #800080; text-decoration-color: #800080\"> 'lilac-chamois'</span> - Executing 'load_models-0' immediately...\n",
       "</pre>\n"
      ],
      "text/plain": [
       "23:58:39.528 | \u001b[36mINFO\u001b[0m    | Flow run\u001b[35m 'lilac-chamois'\u001b[0m - Executing 'load_models-0' immediately...\n"
      ]
     },
     "metadata": {},
     "output_type": "display_data"
    },
    {
     "name": "stderr",
     "output_type": "stream",
     "text": [
      "C:\\Users\\sambi\\anaconda3\\Lib\\site-packages\\huggingface_hub\\file_download.py:1132: FutureWarning: `resume_download` is deprecated and will be removed in version 1.0.0. Downloads always resume when possible. If you want to force a new download, use `force_download=True`.\n",
      "  warnings.warn(\n"
     ]
    },
    {
     "data": {
      "text/html": [
       "<pre style=\"white-space:pre;overflow-x:auto;line-height:normal;font-family:Menlo,'DejaVu Sans Mono',consolas,'Courier New',monospace\">23:58:40.869 | <span style=\"color: #008080; text-decoration-color: #008080\">INFO</span>    | Task run 'load_models-0' - Finished in state <span style=\"color: #008000; text-decoration-color: #008000\">Completed</span>()\n",
       "</pre>\n"
      ],
      "text/plain": [
       "23:58:40.869 | \u001b[36mINFO\u001b[0m    | Task run 'load_models-0' - Finished in state \u001b[32mCompleted\u001b[0m()\n"
      ]
     },
     "metadata": {},
     "output_type": "display_data"
    },
    {
     "data": {
      "text/html": [
       "<pre style=\"white-space:pre;overflow-x:auto;line-height:normal;font-family:Menlo,'DejaVu Sans Mono',consolas,'Courier New',monospace\">23:58:40.902 | <span style=\"color: #008080; text-decoration-color: #008080\">INFO</span>    | Flow run<span style=\"color: #800080; text-decoration-color: #800080\"> 'lilac-chamois'</span> - Created task run 'preprocess_corpus-0' for task 'preprocess_corpus'\n",
       "</pre>\n"
      ],
      "text/plain": [
       "23:58:40.902 | \u001b[36mINFO\u001b[0m    | Flow run\u001b[35m 'lilac-chamois'\u001b[0m - Created task run 'preprocess_corpus-0' for task 'preprocess_corpus'\n"
      ]
     },
     "metadata": {},
     "output_type": "display_data"
    },
    {
     "data": {
      "text/html": [
       "<pre style=\"white-space:pre;overflow-x:auto;line-height:normal;font-family:Menlo,'DejaVu Sans Mono',consolas,'Courier New',monospace\">23:58:40.904 | <span style=\"color: #008080; text-decoration-color: #008080\">INFO</span>    | Flow run<span style=\"color: #800080; text-decoration-color: #800080\"> 'lilac-chamois'</span> - Executing 'preprocess_corpus-0' immediately...\n",
       "</pre>\n"
      ],
      "text/plain": [
       "23:58:40.904 | \u001b[36mINFO\u001b[0m    | Flow run\u001b[35m 'lilac-chamois'\u001b[0m - Executing 'preprocess_corpus-0' immediately...\n"
      ]
     },
     "metadata": {},
     "output_type": "display_data"
    },
    {
     "data": {
      "text/html": [
       "<pre style=\"white-space:pre;overflow-x:auto;line-height:normal;font-family:Menlo,'DejaVu Sans Mono',consolas,'Courier New',monospace\">23:58:40.985 | <span style=\"color: #008080; text-decoration-color: #008080\">INFO</span>    | Task run 'preprocess_corpus-0' - Created task run 'create_chunks-0' for task 'create_chunks'\n",
       "</pre>\n"
      ],
      "text/plain": [
       "23:58:40.985 | \u001b[36mINFO\u001b[0m    | Task run 'preprocess_corpus-0' - Created task run 'create_chunks-0' for task 'create_chunks'\n"
      ]
     },
     "metadata": {},
     "output_type": "display_data"
    },
    {
     "data": {
      "text/html": [
       "<pre style=\"white-space:pre;overflow-x:auto;line-height:normal;font-family:Menlo,'DejaVu Sans Mono',consolas,'Courier New',monospace\">23:58:40.986 | <span style=\"color: #008080; text-decoration-color: #008080\">INFO</span>    | Task run 'preprocess_corpus-0' - Executing 'create_chunks-0' immediately...\n",
       "</pre>\n"
      ],
      "text/plain": [
       "23:58:40.986 | \u001b[36mINFO\u001b[0m    | Task run 'preprocess_corpus-0' - Executing 'create_chunks-0' immediately...\n"
      ]
     },
     "metadata": {},
     "output_type": "display_data"
    },
    {
     "data": {
      "text/html": [
       "<pre style=\"white-space:pre;overflow-x:auto;line-height:normal;font-family:Menlo,'DejaVu Sans Mono',consolas,'Courier New',monospace\">23:58:41.083 | <span style=\"color: #008080; text-decoration-color: #008080\">INFO</span>    | Task run 'create_chunks-0' - Finished in state <span style=\"color: #008000; text-decoration-color: #008000\">Completed</span>()\n",
       "</pre>\n"
      ],
      "text/plain": [
       "23:58:41.083 | \u001b[36mINFO\u001b[0m    | Task run 'create_chunks-0' - Finished in state \u001b[32mCompleted\u001b[0m()\n"
      ]
     },
     "metadata": {},
     "output_type": "display_data"
    },
    {
     "data": {
      "text/html": [
       "<pre style=\"white-space:pre;overflow-x:auto;line-height:normal;font-family:Menlo,'DejaVu Sans Mono',consolas,'Courier New',monospace\">23:59:03.358 | <span style=\"color: #008080; text-decoration-color: #008080\">INFO</span>    | Task run 'preprocess_corpus-0' - Finished in state <span style=\"color: #008000; text-decoration-color: #008000\">Completed</span>()\n",
       "</pre>\n"
      ],
      "text/plain": [
       "23:59:03.358 | \u001b[36mINFO\u001b[0m    | Task run 'preprocess_corpus-0' - Finished in state \u001b[32mCompleted\u001b[0m()\n"
      ]
     },
     "metadata": {},
     "output_type": "display_data"
    },
    {
     "data": {
      "text/html": [
       "<pre style=\"white-space:pre;overflow-x:auto;line-height:normal;font-family:Menlo,'DejaVu Sans Mono',consolas,'Courier New',monospace\">23:59:03.434 | <span style=\"color: #008080; text-decoration-color: #008080\">INFO</span>    | Flow run<span style=\"color: #800080; text-decoration-color: #800080\"> 'lilac-chamois'</span> - Created task run 'retrieve_relevant_chunks-0' for task 'retrieve_relevant_chunks'\n",
       "</pre>\n"
      ],
      "text/plain": [
       "23:59:03.434 | \u001b[36mINFO\u001b[0m    | Flow run\u001b[35m 'lilac-chamois'\u001b[0m - Created task run 'retrieve_relevant_chunks-0' for task 'retrieve_relevant_chunks'\n"
      ]
     },
     "metadata": {},
     "output_type": "display_data"
    },
    {
     "data": {
      "text/html": [
       "<pre style=\"white-space:pre;overflow-x:auto;line-height:normal;font-family:Menlo,'DejaVu Sans Mono',consolas,'Courier New',monospace\">23:59:03.436 | <span style=\"color: #008080; text-decoration-color: #008080\">INFO</span>    | Flow run<span style=\"color: #800080; text-decoration-color: #800080\"> 'lilac-chamois'</span> - Executing 'retrieve_relevant_chunks-0' immediately...\n",
       "</pre>\n"
      ],
      "text/plain": [
       "23:59:03.436 | \u001b[36mINFO\u001b[0m    | Flow run\u001b[35m 'lilac-chamois'\u001b[0m - Executing 'retrieve_relevant_chunks-0' immediately...\n"
      ]
     },
     "metadata": {},
     "output_type": "display_data"
    },
    {
     "data": {
      "text/html": [
       "<pre style=\"white-space:pre;overflow-x:auto;line-height:normal;font-family:Menlo,'DejaVu Sans Mono',consolas,'Courier New',monospace\">23:59:03.575 | <span style=\"color: #008080; text-decoration-color: #008080\">INFO</span>    | Task run 'retrieve_relevant_chunks-0' - Finished in state <span style=\"color: #008000; text-decoration-color: #008000\">Completed</span>()\n",
       "</pre>\n"
      ],
      "text/plain": [
       "23:59:03.575 | \u001b[36mINFO\u001b[0m    | Task run 'retrieve_relevant_chunks-0' - Finished in state \u001b[32mCompleted\u001b[0m()\n"
      ]
     },
     "metadata": {},
     "output_type": "display_data"
    },
    {
     "name": "stdout",
     "output_type": "stream",
     "text": [
      "Context given:\n",
      "leave? Right? Ramit Sethi: Greg has a point. If you’re going to leave in a couple of years, certain renovations might not make financial sense. Now, one thing I notice is that his money lens, the way that he views the world is financial. While Laura’s money lens seems to be toward comfort, right? She wants to be comfortable in the place where she lives. She wants to make it feel like it’s theirs, not just his. When you are working on money with your partner, it’s very important to be transparent about what your money lenses are. For certain things, my money lens is comfort or security. For another part of my life, it’s speed or results, sometimes, security, and sometimes, it’s cost, right? You can Google Ramit Sethi’s money lenses to find out some of the other ways that you might think about money. What do you think the real problem is here, both of you? Laura: We have differences in what we each need to feel comfortable in the home. I want things to be a little bit nicer. Greg would probably be happy like with a tent in the backyard. Ramit Sethi: Is that true, Greg? Greg: Yeah, like I never really needed much, right? Like I don’t know, like I didn’t have much even furniture before she moved in. And I was good then like I didn’t need anything extra, right? Like, it’s nice, I love having her here, I love her. I don’t know, I didn’t put much thought into it, right? Laura: Well, so we started like really talking about the bathroom, probably like December, January. And the thing is, my dad can help us do the work, so we’re not paying for somebody’s labor, which makes it a little bit more reasonable. Anyway, Greg was not on board with doing anything, so we started making a budget, I think this is how much we spend in a month. And then, in March, we tracked like this is actually how much money we spent. So, we could say, okay, we have like this much money extra, and we can put this much money into our savings, and we can put this much money towards home improvement like every month, right? So, at the end of the year, we should be able to do X, Y, and Z, depending on what the costs are. So, I think that slightly helps to get Greg on board with just doing the downstairs bathroom, my dad was able to price it out for us, and it is like fairly cheap. It’s a small space. It’s just a toilet, a vanity, and flooring. That’s not a lot. Ramit Sethi: Why buy versus rent? Greg: Oh, so you can build equity in such, right? Like I’ve rented before in university, and like to me, it was just like, okay, well, I lived in this place and I was paying somebody else’s kind of mortgage with regards to my rent,\n"
     ]
    },
    {
     "data": {
      "text/html": [
       "<pre style=\"white-space:pre;overflow-x:auto;line-height:normal;font-family:Menlo,'DejaVu Sans Mono',consolas,'Courier New',monospace\">23:59:03.613 | <span style=\"color: #008080; text-decoration-color: #008080\">INFO</span>    | Flow run<span style=\"color: #800080; text-decoration-color: #800080\"> 'lilac-chamois'</span> - Created task run 'sliding_window_generation-0' for task 'sliding_window_generation'\n",
       "</pre>\n"
      ],
      "text/plain": [
       "23:59:03.613 | \u001b[36mINFO\u001b[0m    | Flow run\u001b[35m 'lilac-chamois'\u001b[0m - Created task run 'sliding_window_generation-0' for task 'sliding_window_generation'\n"
      ]
     },
     "metadata": {},
     "output_type": "display_data"
    },
    {
     "data": {
      "text/html": [
       "<pre style=\"white-space:pre;overflow-x:auto;line-height:normal;font-family:Menlo,'DejaVu Sans Mono',consolas,'Courier New',monospace\">23:59:03.615 | <span style=\"color: #008080; text-decoration-color: #008080\">INFO</span>    | Flow run<span style=\"color: #800080; text-decoration-color: #800080\"> 'lilac-chamois'</span> - Executing 'sliding_window_generation-0' immediately...\n",
       "</pre>\n"
      ],
      "text/plain": [
       "23:59:03.615 | \u001b[36mINFO\u001b[0m    | Flow run\u001b[35m 'lilac-chamois'\u001b[0m - Executing 'sliding_window_generation-0' immediately...\n"
      ]
     },
     "metadata": {},
     "output_type": "display_data"
    },
    {
     "data": {
      "text/html": [
       "<pre style=\"white-space:pre;overflow-x:auto;line-height:normal;font-family:Menlo,'DejaVu Sans Mono',consolas,'Courier New',monospace\">23:59:08.180 | <span style=\"color: #008080; text-decoration-color: #008080\">INFO</span>    | Task run 'sliding_window_generation-0' - Finished in state <span style=\"color: #008000; text-decoration-color: #008000\">Completed</span>()\n",
       "</pre>\n"
      ],
      "text/plain": [
       "23:59:08.180 | \u001b[36mINFO\u001b[0m    | Task run 'sliding_window_generation-0' - Finished in state \u001b[32mCompleted\u001b[0m()\n"
      ]
     },
     "metadata": {},
     "output_type": "display_data"
    },
    {
     "data": {
      "text/html": [
       "<pre style=\"white-space:pre;overflow-x:auto;line-height:normal;font-family:Menlo,'DejaVu Sans Mono',consolas,'Courier New',monospace\">23:59:08.215 | <span style=\"color: #008080; text-decoration-color: #008080\">INFO</span>    | Flow run<span style=\"color: #800080; text-decoration-color: #800080\"> 'lilac-chamois'</span> - Finished in state <span style=\"color: #008000; text-decoration-color: #008000\">Completed</span>()\n",
       "</pre>\n"
      ],
      "text/plain": [
       "23:59:08.215 | \u001b[36mINFO\u001b[0m    | Flow run\u001b[35m 'lilac-chamois'\u001b[0m - Finished in state \u001b[32mCompleted\u001b[0m()\n"
      ]
     },
     "metadata": {},
     "output_type": "display_data"
    },
    {
     "name": "stdout",
     "output_type": "stream",
     "text": [
      "\n",
      "Query: \n",
      "        What are the different money lenses that I can look through? List them all for me.\n",
      "    \n",
      "Answer: According to Ramit Sethi, some common money lenses, or ways people view their finances, include:\n",
      "\n",
      "1. Financial (cost)\n",
      "2. Comfort\n",
      "3. Security\n",
      "4. Speed\n",
      "5. Results\n",
      "\n",
      "Different individuals may have unique combinations or additional lenses they prioritize.Building equity through homeownership can be beneficial as it allows you to accumulate value in the property over time, which can be a significant financial asset. In contrast, renting typically means you are not building any equity, as your payments go towards the landlord's mortgage and property upkeep instead.Buying versus renting is a common debate. Buying allows you to build equity in the property over time, potentially benefiting from property value appreciation. In contrast, renting can be less of a financial commitment and offers greater flexibility with less responsibility for maintenance. Each option has its pros and cons depending on individual financial goals and lifestyle preferences.\n"
     ]
    }
   ],
   "source": [
    "if __name__ == \"__main__\":\n",
    "    pdf_path = r\"C:\\Users\\sambi\\Documents\\School Stuff\\Ramit Sethi - I will teach you to be rich.pdf\"\n",
    "    query = \"\"\"\n",
    "        What is the conscious spending plan? How does Ramit talk about it and why does it work?\n",
    "    \"\"\"\n",
    "    try:\n",
    "        all_episodes_data, answer = integrated_preprocessing_rag_flow(pdf_path, query)\n",
    "        print(\"\\nQuery:\", query)\n",
    "        print(\"Answer:\", answer)\n",
    "    except Exception as e:\n",
    "        print(f\"An error occurred: {str(e)}\")\n",
    "        print(traceback.format_exc())"
   ]
  },
  {
   "cell_type": "code",
   "execution_count": null,
   "id": "8959f369-c0a5-40fc-86a1-faf32435ec03",
   "metadata": {},
   "outputs": [],
   "source": []
  }
 ],
 "metadata": {
  "kernelspec": {
   "display_name": "Python 3 (ipykernel)",
   "language": "python",
   "name": "python3"
  },
  "language_info": {
   "codemirror_mode": {
    "name": "ipython",
    "version": 3
   },
   "file_extension": ".py",
   "mimetype": "text/x-python",
   "name": "python",
   "nbconvert_exporter": "python",
   "pygments_lexer": "ipython3",
   "version": "3.11.4"
  }
 },
 "nbformat": 4,
 "nbformat_minor": 5
}
